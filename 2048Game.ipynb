{
 "cells": [
  {
   "cell_type": "code",
   "execution_count": 54,
   "id": "17e855aa",
   "metadata": {},
   "outputs": [],
   "source": [
    "from tkinter import * #tkinter is used for making the required console and the gui\n",
    "from tkinter import messagebox #used for generating the messages for winning and lossing\n",
    "import random #used for generating a random 2 or 4 in the empty blocks\n",
    "import numpy as np\n",
    "# The Board class is used for generating a nxn size board\n",
    "class Board:\n",
    "    #bg colour is used to set different colour for tiles of different numbers\n",
    "    bg_color={\n",
    "\n",
    "        \"2\": \"red\",\n",
    "        \"4\": \"green\",\n",
    "        \"8\": \"blue\",\n",
    "        \"16\": \"cyan\",\n",
    "        \"32\": \"#655D8A\",\n",
    "        \"64\": \"magenta\",\n",
    "        \"128\": \"#1572A1\",\n",
    "        \"256\": \"#9C0F48\",\n",
    "        \"512\": \"#470D21\",\n",
    "        \"1024\": \"#E60965\",\n",
    "        \"2048\": \"#876445\",\n",
    "    }\n",
    "    color={\n",
    "         '2': 'white',\n",
    "        '4': 'white',\n",
    "        '8': 'white',\n",
    "        '16': 'white',\n",
    "        '32': 'white',\n",
    "        '64': 'white',\n",
    "        '128': 'white',\n",
    "        '256': 'white',\n",
    "        '512': 'white',\n",
    "        '1024': 'white',\n",
    "        '2048': 'white',\n",
    "    }\n",
    "    \n",
    "    def __init__(self, n=4):\n",
    "        self.n = n\n",
    "        self.window = Tk()\n",
    "        self.window.title(\"Ather 2048 Game\")\n",
    "        self.gameArea = Frame(self.window, bg = \"#C7B198\")\n",
    "        self.board = []\n",
    "        self.gridCell = np.array([[0 for i in range(self.n)]for i in range(self.n)])\n",
    "        self.merge = False\n",
    "        self.moved = False\n",
    "        self.score = 0\n",
    "        \n",
    "        for i in range(self.n):\n",
    "            r = []\n",
    "            for j in range(self.n):\n",
    "                label = Label(self.gameArea, text = \"\", bg = \"#D06224\")\n",
    "                font = (\"Helvetica\",36,\"bold\")\n",
    "                label.grid(row = i, column = j, padx = 5, pady = 5)\n",
    "                r.append(label)\n",
    "            self.board.append(r)\n",
    "        self.gameArea.grid()\n",
    "    \n",
    "    def reverse(self):\n",
    "        self.gridCell = np.flip(self.gridCell, axis = 1)\n",
    "\n",
    "    def transpose(self):\n",
    "        self.gridCell= np.transpose(self.gridCell)\n",
    "    \n",
    "    def compress(self):\n",
    "        for i in range(self.n):\n",
    "            k = self.gridCell[i]\n",
    "            k = k[k!=0]\n",
    "            k = np.pad(k, (0,self.n-len(k)))\n",
    "            self.gridCell[i] = k\n",
    "    \n",
    "    def merge(self):\n",
    "        self.m = False\n",
    "        for i in range(self.n):\n",
    "            for j in range(self.n):\n",
    "                if self.gridCell[i][j] == self.gridCell[i][j+1] !=0:\n",
    "                    self.gridCell[i][j] *= 2\n",
    "                    self.gridCell[i][j+1] = 0\n",
    "                    self.m = True\n",
    "    \n",
    "                    \n",
    "        \n",
    "game = Board()\n",
    "\n",
    "    \n",
    "    "
   ]
  },
  {
   "cell_type": "code",
   "execution_count": 123,
   "id": "7552a401",
   "metadata": {},
   "outputs": [
    {
     "name": "stdout",
     "output_type": "stream",
     "text": [
      "[0 2 2]\n",
      "[[1 3 0]\n",
      " [4 5 6]\n",
      " [7 0 0]]\n"
     ]
    }
   ],
   "source": [
    "import numpy as np\n",
    "a = np.array([[1,0,3],\n",
    "    [4,5,6],\n",
    "    [7,0,0]])\n",
    "print(np.where(a == 0)[0])\n",
    "\n",
    "for i in range(3):\n",
    "    k = a[i]\n",
    "    k = k[k!=0]\n",
    "    k = np.pad(k, (0,3-len(k)))\n",
    "    a[i] = k\n",
    "print(a)"
   ]
  },
  {
   "cell_type": "code",
   "execution_count": 69,
   "id": "d1f8972b",
   "metadata": {},
   "outputs": [
    {
     "name": "stdout",
     "output_type": "stream",
     "text": [
      "k\n"
     ]
    }
   ],
   "source": [
    "a = 1\n",
    "b =1\n",
    "c=2\n",
    "if a==b!=c:\n",
    "    print(\"k\")"
   ]
  },
  {
   "cell_type": "code",
   "execution_count": null,
   "id": "2b86a7ec",
   "metadata": {},
   "outputs": [],
   "source": []
  }
 ],
 "metadata": {
  "kernelspec": {
   "display_name": "Python 3",
   "language": "python",
   "name": "python3"
  },
  "language_info": {
   "codemirror_mode": {
    "name": "ipython",
    "version": 3
   },
   "file_extension": ".py",
   "mimetype": "text/x-python",
   "name": "python",
   "nbconvert_exporter": "python",
   "pygments_lexer": "ipython3",
   "version": "3.8.8"
  }
 },
 "nbformat": 4,
 "nbformat_minor": 5
}
