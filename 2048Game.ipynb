{
 "cells": [
  {
   "cell_type": "code",
   "execution_count": 190,
   "id": "fa174dd2",
   "metadata": {},
   "outputs": [
    {
     "name": "stdout",
     "output_type": "stream",
     "text": [
      "Over\n"
     ]
    }
   ],
   "source": [
    "from tkinter import * #tkinter is used for making the required console and the gui\n",
    "from tkinter import messagebox #used for generating the messages for winning and lossing\n",
    "import random #used for generating a random 2 or 4 in the empty blocks\n",
    "import numpy as np\n",
    "# The Board class is used for generating a nxn size board\n",
    "class Board:\n",
    "    #bg colour is used to set different colour for tiles of different numbers\n",
    "    bg_color={\n",
    "\n",
    "        \"2\": \"red\",\n",
    "        \"4\": \"green\",\n",
    "        \"8\": \"blue\",\n",
    "        \"16\": \"cyan\",\n",
    "        \"32\": \"#655D8A\",\n",
    "        \"64\": \"magenta\",\n",
    "        \"128\": \"#1572A1\",\n",
    "        \"256\": \"#9C0F48\",\n",
    "        \"512\": \"#470D21\",\n",
    "        \"1024\": \"#E60965\",\n",
    "        \"2048\": \"#876445\",\n",
    "    }\n",
    "    \n",
    "    \n",
    "    def __init__(self, n=4):\n",
    "        self.n = n\n",
    "        self.window = Tk()\n",
    "        self.window.title(\"Ather 2048 Game\")\n",
    "        self.gameArea = Frame(self.window, bg = \"#C7B198\")\n",
    "        self.board = []\n",
    "        self.gridCell = np.array([[0 for i in range(self.n)]for i in range(self.n)])\n",
    "        self.m = False\n",
    "        self.moved = False\n",
    "        self.score = 0\n",
    "        \n",
    "        for i in range(self.n):\n",
    "            r = []\n",
    "            for j in range(self.n):\n",
    "                label = Label(self.gameArea, text = \"\", bg = \"yellow\",\n",
    "                              font = (\"Helvetica\",22,\"bold\"),height = 2, width = 3)\n",
    "                label.grid(row = i, column = j, padx = 5, pady = 5)\n",
    "                r.append(label)\n",
    "            self.board.append(r)\n",
    "        self.gameArea.grid()\n",
    "                              \n",
    "    \n",
    "    def reverse(self):\n",
    "        self.gridCell = np.flip(self.gridCell, axis = 1)\n",
    "\n",
    "    def transpose(self):\n",
    "        self.gridCell= np.transpose(self.gridCell)\n",
    "    \n",
    "    def compress(self):\n",
    "        self.c = False\n",
    "        for i in range(self.n):\n",
    "            k = self.gridCell[i]\n",
    "            k = k[k!=0]\n",
    "            k = np.pad(k, (0,self.n-len(k)))\n",
    "            if all(k!=self.gridCell[i]):\n",
    "                self.c = True\n",
    "            self.gridCell[i] = k\n",
    "    \n",
    "    def merge(self):\n",
    "        self.m = False\n",
    "        for i in range(self.n):\n",
    "            for j in range(self.n-1):\n",
    "                if self.gridCell[i][j] == self.gridCell[i][j+1] !=0:\n",
    "                    self.gridCell[i][j] *= 2\n",
    "                    self.gridCell[i][j+1] = 0\n",
    "                    self.m = True\n",
    "    def random_cell(self):\n",
    "        index = []\n",
    "        for i in range(self.n):\n",
    "            for j in range(self.n):\n",
    "                if self.gridCell[i][j] == 0:\n",
    "                    index.append((i,j))\n",
    "        \n",
    "        self.gridCell[random.choice(index)] = random.choice([2,4])\n",
    "        \n",
    "    def can_merge(self):\n",
    "        for i in range(self.n):\n",
    "            for j in range(self.n-1):\n",
    "                if self.gridCell[i][j] == self.gridCell[i][j+1]:\n",
    "                    return True\n",
    "        for i in range(self.n-1):\n",
    "            for j in range(self.n):\n",
    "                if self.gridCell[i+1][j] == self.gridCell[i][j]:\n",
    "                    return True\n",
    "        return False\n",
    "    \n",
    "    def paintGrid(self):\n",
    "        for i in range(self.n):\n",
    "            for j in range(self.n):\n",
    "                if self.gridCell[i][j] == 0:\n",
    "                    self.board[i][j].config(text = \"\", bg = \"white\")\n",
    "                else:\n",
    "                    self.board[i][j].config(text = str(self.gridCell[i][j]),\n",
    "                    bg = self.bg_color.get(str(self.gridCell[i][j])),\n",
    "                    fg = \"white\")\n",
    "                    \n",
    "        \n",
    "class Game:\n",
    "    def __init__(self, board):\n",
    "        self.board = board\n",
    "        self.end = False\n",
    "        self.won = False\n",
    "        \n",
    "    def start(self):\n",
    "        self.board.random_cell()\n",
    "        self.board.random_cell()\n",
    "        self.board.paintGrid()\n",
    "        self.board.window.bind('<Key>', self.link_keys)\n",
    "        self.board.window.mainloop()\n",
    "        \n",
    "    def link_keys(self, event):\n",
    "        if self.end or self.won:\n",
    "            return\n",
    "\n",
    "        self.board.compress = False\n",
    "        self.board.merge = False\n",
    "        self.board.moved = False\n",
    "        \n",
    "        pressed_key = event.keysym\n",
    "        \n",
    "        if pressed_key == \"Up\":\n",
    "            self.board.transpose()\n",
    "            self.board.compress()\n",
    "            self.board.merge()\n",
    "            #self.board.moved = self.board.c or self.board.m\n",
    "            \n",
    "        \n",
    "        \n",
    "gamepanel =Board()\n",
    "game2048 = Game( gamepanel)\n",
    "game2048.start()\n",
    "    \n",
    "    "
   ]
  },
  {
   "cell_type": "code",
   "execution_count": 140,
   "id": "ebbc1d2a",
   "metadata": {},
   "outputs": [
    {
     "name": "stdout",
     "output_type": "stream",
     "text": [
      "7\n"
     ]
    }
   ],
   "source": [
    "import numpy as np\n",
    "import random\n",
    "a = np.array([[1,0,3],\n",
    "    [4,5,6],\n",
    "    [7,0,0]])\n",
    "k = [(1,2), (2,0)]\n",
    "print(a[random.choice(k)])\n"
   ]
  },
  {
   "cell_type": "code",
   "execution_count": 144,
   "id": "189e7ffa",
   "metadata": {},
   "outputs": [
    {
     "data": {
      "text/plain": [
       "4"
      ]
     },
     "execution_count": 144,
     "metadata": {},
     "output_type": "execute_result"
    }
   ],
   "source": [
    "random.choice([2,4])"
   ]
  },
  {
   "cell_type": "code",
   "execution_count": 156,
   "id": "82226367",
   "metadata": {},
   "outputs": [
    {
     "data": {
      "text/plain": [
       "True"
      ]
     },
     "execution_count": 156,
     "metadata": {},
     "output_type": "execute_result"
    }
   ],
   "source": [
    "all(np.array([1,2,3])==np.array([1,2,3]))"
   ]
  },
  {
   "cell_type": "code",
   "execution_count": null,
   "id": "c8d4b633",
   "metadata": {},
   "outputs": [],
   "source": []
  }
 ],
 "metadata": {
  "kernelspec": {
   "display_name": "Python 3",
   "language": "python",
   "name": "python3"
  },
  "language_info": {
   "codemirror_mode": {
    "name": "ipython",
    "version": 3
   },
   "file_extension": ".py",
   "mimetype": "text/x-python",
   "name": "python",
   "nbconvert_exporter": "python",
   "pygments_lexer": "ipython3",
   "version": "3.8.8"
  }
 },
 "nbformat": 4,
 "nbformat_minor": 5
}
